{
 "cells": [
  {
   "cell_type": "code",
   "execution_count": 1,
   "id": "f8d838b4",
   "metadata": {},
   "outputs": [],
   "source": [
    "import numpy as np\n",
    "import matplotlib.pyplot as plt\n",
    "import pandas as pd"
   ]
  },
  {
   "cell_type": "code",
   "execution_count": 2,
   "id": "3a88984a",
   "metadata": {},
   "outputs": [
    {
     "data": {
      "text/html": [
       "<div>\n",
       "<style scoped>\n",
       "    .dataframe tbody tr th:only-of-type {\n",
       "        vertical-align: middle;\n",
       "    }\n",
       "\n",
       "    .dataframe tbody tr th {\n",
       "        vertical-align: top;\n",
       "    }\n",
       "\n",
       "    .dataframe thead th {\n",
       "        text-align: right;\n",
       "    }\n",
       "</style>\n",
       "<table border=\"1\" class=\"dataframe\">\n",
       "  <thead>\n",
       "    <tr style=\"text-align: right;\">\n",
       "      <th></th>\n",
       "      <th>Position</th>\n",
       "      <th>Level</th>\n",
       "      <th>Salary</th>\n",
       "    </tr>\n",
       "  </thead>\n",
       "  <tbody>\n",
       "    <tr>\n",
       "      <th>0</th>\n",
       "      <td>Business Analyst</td>\n",
       "      <td>1</td>\n",
       "      <td>45000</td>\n",
       "    </tr>\n",
       "    <tr>\n",
       "      <th>1</th>\n",
       "      <td>Junior Consultant</td>\n",
       "      <td>2</td>\n",
       "      <td>50000</td>\n",
       "    </tr>\n",
       "    <tr>\n",
       "      <th>2</th>\n",
       "      <td>Senior Consultant</td>\n",
       "      <td>3</td>\n",
       "      <td>60000</td>\n",
       "    </tr>\n",
       "    <tr>\n",
       "      <th>3</th>\n",
       "      <td>Manager</td>\n",
       "      <td>4</td>\n",
       "      <td>80000</td>\n",
       "    </tr>\n",
       "    <tr>\n",
       "      <th>4</th>\n",
       "      <td>Country Manager</td>\n",
       "      <td>5</td>\n",
       "      <td>110000</td>\n",
       "    </tr>\n",
       "  </tbody>\n",
       "</table>\n",
       "</div>"
      ],
      "text/plain": [
       "            Position  Level  Salary\n",
       "0   Business Analyst      1   45000\n",
       "1  Junior Consultant      2   50000\n",
       "2  Senior Consultant      3   60000\n",
       "3            Manager      4   80000\n",
       "4    Country Manager      5  110000"
      ]
     },
     "execution_count": 2,
     "metadata": {},
     "output_type": "execute_result"
    }
   ],
   "source": [
    "df = pd.read_csv('Position_Salaries.csv')\n",
    "df.head()"
   ]
  },
  {
   "cell_type": "code",
   "execution_count": 3,
   "id": "9207c8eb",
   "metadata": {},
   "outputs": [
    {
     "data": {
      "text/plain": [
       "array([[ 1],\n",
       "       [ 2],\n",
       "       [ 3],\n",
       "       [ 4],\n",
       "       [ 5],\n",
       "       [ 6],\n",
       "       [ 7],\n",
       "       [ 8],\n",
       "       [ 9],\n",
       "       [10]])"
      ]
     },
     "execution_count": 3,
     "metadata": {},
     "output_type": "execute_result"
    }
   ],
   "source": [
    "X = df.iloc[:, 1:-1].values\n",
    "X"
   ]
  },
  {
   "cell_type": "code",
   "execution_count": 4,
   "id": "8f819043",
   "metadata": {},
   "outputs": [
    {
     "data": {
      "text/plain": [
       "array([  45000,   50000,   60000,   80000,  110000,  150000,  200000,\n",
       "        300000,  500000, 1000000])"
      ]
     },
     "execution_count": 4,
     "metadata": {},
     "output_type": "execute_result"
    }
   ],
   "source": [
    "y = df.iloc[:, -1].values\n",
    "y"
   ]
  },
  {
   "cell_type": "markdown",
   "id": "399402af",
   "metadata": {},
   "source": [
    "## Feature scaling"
   ]
  },
  {
   "cell_type": "markdown",
   "id": "301cecda",
   "metadata": {},
   "source": [
    "We need to convert our y to a 2D array. Usually this would be done for us when splitting the data into training and testing however, as we are using the full data set to train our model we need to convert it ourselves.\n",
    "\n",
    "The reason for converting it to a 2D array is because it needs to be in this format in order to pass it through our StandardScaler."
   ]
  },
  {
   "cell_type": "code",
   "execution_count": 5,
   "id": "c1f7087f",
   "metadata": {},
   "outputs": [
    {
     "data": {
      "text/plain": [
       "array([[  45000],\n",
       "       [  50000],\n",
       "       [  60000],\n",
       "       [  80000],\n",
       "       [ 110000],\n",
       "       [ 150000],\n",
       "       [ 200000],\n",
       "       [ 300000],\n",
       "       [ 500000],\n",
       "       [1000000]])"
      ]
     },
     "execution_count": 5,
     "metadata": {},
     "output_type": "execute_result"
    }
   ],
   "source": [
    "y = y.reshape(len(y), 1)\n",
    "y"
   ]
  },
  {
   "cell_type": "code",
   "execution_count": 6,
   "id": "8362aa75",
   "metadata": {},
   "outputs": [
    {
     "data": {
      "text/plain": [
       "array([[-1.5666989 ],\n",
       "       [-1.21854359],\n",
       "       [-0.87038828],\n",
       "       [-0.52223297],\n",
       "       [-0.17407766],\n",
       "       [ 0.17407766],\n",
       "       [ 0.52223297],\n",
       "       [ 0.87038828],\n",
       "       [ 1.21854359],\n",
       "       [ 1.5666989 ]])"
      ]
     },
     "execution_count": 6,
     "metadata": {},
     "output_type": "execute_result"
    }
   ],
   "source": [
    "from sklearn.preprocessing import StandardScaler\n",
    "\n",
    "sc_X = StandardScaler()\n",
    "X = sc_X.fit_transform(X)\n",
    "X"
   ]
  },
  {
   "cell_type": "code",
   "execution_count": 7,
   "id": "6cde77fa",
   "metadata": {},
   "outputs": [
    {
     "data": {
      "text/plain": [
       "array([[-0.72004253],\n",
       "       [-0.70243757],\n",
       "       [-0.66722767],\n",
       "       [-0.59680786],\n",
       "       [-0.49117815],\n",
       "       [-0.35033854],\n",
       "       [-0.17428902],\n",
       "       [ 0.17781001],\n",
       "       [ 0.88200808],\n",
       "       [ 2.64250325]])"
      ]
     },
     "execution_count": 7,
     "metadata": {},
     "output_type": "execute_result"
    }
   ],
   "source": [
    "sc_y = StandardScaler()\n",
    "y = sc_y.fit_transform(y)\n",
    "y"
   ]
  },
  {
   "cell_type": "markdown",
   "id": "2369d7bb",
   "metadata": {},
   "source": [
    "## Training the SVR model"
   ]
  },
  {
   "cell_type": "markdown",
   "id": "6d4d8bc2",
   "metadata": {},
   "source": [
    "When using SVM we have to define a parameter - kernel. This parameter specifies the kernel type to be used. More information on the type of kernels can be defined at https://data-flair.training/blogs/svm-kernel-functions/.\n",
    "\n",
    "For our example we will use rbf kernel. This stands for Gaussian Radial Basis Function."
   ]
  },
  {
   "cell_type": "code",
   "execution_count": 8,
   "id": "3bde12e6",
   "metadata": {},
   "outputs": [
    {
     "name": "stderr",
     "output_type": "stream",
     "text": [
      "/Users/metinalisho/anaconda3/envs/ml-az/lib/python3.7/site-packages/sklearn/utils/validation.py:993: DataConversionWarning: A column-vector y was passed when a 1d array was expected. Please change the shape of y to (n_samples, ), for example using ravel().\n",
      "  y = column_or_1d(y, warn=True)\n"
     ]
    },
    {
     "data": {
      "text/plain": [
       "SVR()"
      ]
     },
     "execution_count": 8,
     "metadata": {},
     "output_type": "execute_result"
    }
   ],
   "source": [
    "from sklearn.svm import SVR\n",
    "\n",
    "svr_reg = SVR(kernel='rbf')\n",
    "svr_reg.fit(X, y)"
   ]
  },
  {
   "cell_type": "markdown",
   "id": "cd1ec0e5",
   "metadata": {},
   "source": [
    "## Predicting a new result"
   ]
  },
  {
   "cell_type": "markdown",
   "id": "793e9a66",
   "metadata": {},
   "source": [
    "Recall, our business problem is to predict the salary for a specific position level. However, 6.5 is not on the same scale as the rest of our X values. So we have to scale this using the transform method.\n",
    "\n",
    "See https://github.com/DataVizWiz/A-Z-Machine-Learning-with-Python/blob/main/01-Data-Preprocessing/Data-Preprocessing.ipynb on why we use the transform method rather than the fit_transform method."
   ]
  },
  {
   "cell_type": "markdown",
   "id": "a1e26091",
   "metadata": {},
   "source": [
    "Remember to pass through a point to transform method, it must be a matrix."
   ]
  },
  {
   "cell_type": "code",
   "execution_count": 9,
   "id": "cce76890",
   "metadata": {},
   "outputs": [
    {
     "data": {
      "text/plain": [
       "array([-0.27861589])"
      ]
     },
     "execution_count": 9,
     "metadata": {},
     "output_type": "execute_result"
    }
   ],
   "source": [
    "sample = np.array([[6.5]])\n",
    "sample_trans = sc_X.transform(sample)\n",
    "\n",
    "sample_pred = svr_reg.predict(sample_trans)\n",
    "sample_pred"
   ]
  },
  {
   "cell_type": "markdown",
   "id": "0466c39e",
   "metadata": {},
   "source": [
    "We have to pass the value as a 2D array for it to be valid for the inverse_transform method but then we need to flatten it for later on."
   ]
  },
  {
   "cell_type": "code",
   "execution_count": 10,
   "id": "37cdf49b",
   "metadata": {},
   "outputs": [
    {
     "data": {
      "text/plain": [
       "array([170370.0204065])"
      ]
     },
     "execution_count": 10,
     "metadata": {},
     "output_type": "execute_result"
    }
   ],
   "source": [
    "sample_inv = sc_y.inverse_transform([sample_pred]).flatten()\n",
    "sample_inv"
   ]
  },
  {
   "cell_type": "markdown",
   "id": "c1ba462a",
   "metadata": {},
   "source": [
    "## Visualising the SVR results"
   ]
  },
  {
   "cell_type": "markdown",
   "id": "0de2f015",
   "metadata": {},
   "source": [
    "Again, before we plot our graph we have to reverse our scaling for X and y to get our 'real' values. Then we have to carry out our inverse and predict method on X to get our predicted y."
   ]
  },
  {
   "cell_type": "code",
   "execution_count": 11,
   "id": "89d461d3",
   "metadata": {},
   "outputs": [],
   "source": [
    "X_inv = sc_X.inverse_transform(X)\n",
    "y_inv = sc_y.inverse_transform(y)\n",
    "\n",
    "y_pred = sc_y.inverse_transform([svr_reg.predict(X)]).flatten()"
   ]
  },
  {
   "cell_type": "code",
   "execution_count": 12,
   "id": "566b4201",
   "metadata": {},
   "outputs": [
    {
     "data": {
      "image/png": "[encoded data removed]",
      "text/plain": [
       "<Figure size 432x288 with 1 Axes>"
      ]
     },
     "metadata": {
      "needs_background": "light"
     },
     "output_type": "display_data"
    }
   ],
   "source": [
    "plt.scatter(X_inv, y_inv, color='blue')\n",
    "plt.plot(X_inv, y_pred, color='orange')\n",
    "plt.title('Truth or Bluff (Support Vector Regresson)')\n",
    "plt.xlabel('Position Level')\n",
    "plt.ylabel('Salary (£m)')\n",
    "plt.show()"
   ]
  },
  {
   "cell_type": "markdown",
   "id": "d53e87ed",
   "metadata": {},
   "source": [
    "## Visualising the SVR results for higher resolution & smoother curve"
   ]
  },
  {
   "cell_type": "code",
   "execution_count": 21,
   "id": "cc09b22b",
   "metadata": {},
   "outputs": [
    {
     "data": {
      "image/png": "[encoded data removed]",
      "text/plain": [
       "<Figure size 432x288 with 1 Axes>"
      ]
     },
     "metadata": {
      "needs_background": "light"
     },
     "output_type": "display_data"
    }
   ],
   "source": [
    "X_grid = np.arange(min(X_inv), max(X_inv), 0.1)\n",
    "X_grid = X_grid.reshape((len(X_grid), 1))\n",
    "X_grid_trans = sc_X.transform(X_grid)\n",
    "\n",
    "X_grid_pred = sc_y.inverse_transform([svr_reg.predict(X_grid_trans)]).flatten()\n",
    "\n",
    "plt.scatter(X_inv, y_inv, color='orange')\n",
    "plt.plot(X_grid, X_grid_pred, color='black')\n",
    "plt.title('Truth or Bluff (Polynomial Regresson)')\n",
    "plt.xlabel('Position Level')\n",
    "plt.ylabel('Salary (£m)')\n",
    "plt.show()"
   ]
  }
 ],
 "metadata": {
  "kernelspec": {
   "display_name": "Python 3 (ipykernel)",
   "language": "python",
   "name": "python3"
  },
  "language_info": {
   "codemirror_mode": {
    "name": "ipython",
    "version": 3
   },
   "file_extension": ".py",
   "mimetype": "text/x-python",
   "name": "python",
   "nbconvert_exporter": "python",
   "pygments_lexer": "ipython3",
   "version": "3.7.11"
  }
 },
 "nbformat": 4,
 "nbformat_minor": 5
}
