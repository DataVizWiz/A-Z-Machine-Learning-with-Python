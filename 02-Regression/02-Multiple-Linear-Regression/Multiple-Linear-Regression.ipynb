{
 "cells": [
  {
   "cell_type": "markdown",
   "id": "1208c635",
   "metadata": {},
   "source": [
    "## Business problem"
   ]
  },
  {
   "cell_type": "markdown",
   "id": "74c338c5",
   "metadata": {},
   "source": [
    "We have a dataset of 50 startups with three spend types; R&D, administration, marketing. The data also shows the state they reside in and the profit the company made.\n",
    "\n",
    "We have been hired by a venture capitilist to create a model and advise on which company they should invest in. The venture capitilist wants to understand things like:\n",
    "\n",
    "In which state do companies perform better?\n",
    "Does a company that spends more on marketing yield a better profit?\n",
    "Or does a company that spends more on R&D yield more profit?"
   ]
  },
  {
   "cell_type": "code",
   "execution_count": 1,
   "id": "d7be6a35",
   "metadata": {},
   "outputs": [],
   "source": [
    "import numpy as np\n",
    "import matplotlib.pyplot as plt\n",
    "import pandas as pd"
   ]
  },
  {
   "cell_type": "code",
   "execution_count": 2,
   "id": "6f013ba5",
   "metadata": {},
   "outputs": [],
   "source": [
    "df = pd.read_csv('50_Startups.csv')\n",
    "\n",
    "X = df.iloc[:, :-1].values\n",
    "y = df.iloc[:, -1].values"
   ]
  },
  {
   "cell_type": "markdown",
   "id": "bc4da1b3",
   "metadata": {},
   "source": [
    "## Encoding categorical features"
   ]
  },
  {
   "cell_type": "code",
   "execution_count": 3,
   "id": "472efb8d",
   "metadata": {},
   "outputs": [],
   "source": [
    "from sklearn.compose import ColumnTransformer\n",
    "from sklearn.preprocessing import OneHotEncoder\n",
    "\n",
    "ct = ColumnTransformer(transformers=[('encoder', OneHotEncoder(), [3])], remainder='passthrough')\n",
    "X = np.array(ct.fit_transform(X))"
   ]
  },
  {
   "cell_type": "markdown",
   "id": "a328e868",
   "metadata": {},
   "source": [
    "When we are carrying out multiple regression, we do not need to apply feature scaling. This is because we have a coefficient multiplied to each independent variable, so it does not matter than some features have higher values than others because their coefficients will compensate to put everything on the same scale. - Note to self, dive deeper into this."
   ]
  },
  {
   "cell_type": "markdown",
   "id": "49e3cc74",
   "metadata": {},
   "source": [
    "## Splitting the data into training and testing"
   ]
  },
  {
   "cell_type": "code",
   "execution_count": 4,
   "id": "e17f168b",
   "metadata": {},
   "outputs": [],
   "source": [
    "from sklearn.model_selection import train_test_split\n",
    "\n",
    "X_train, X_test, y_train, y_test = train_test_split(X, y, test_size=0.2, random_state=0)"
   ]
  },
  {
   "cell_type": "markdown",
   "id": "19baaf11",
   "metadata": {},
   "source": [
    "When we carry out our ML model, we do not need a class to account for the removal of the dummy variable. The model will do this for us.\n",
    "\n",
    "The same goes for selecting the features with the highest p-value for backward elimination. Our model will do this for us."
   ]
  },
  {
   "cell_type": "markdown",
   "id": "05fc7dab",
   "metadata": {},
   "source": [
    "## Training the model"
   ]
  },
  {
   "cell_type": "code",
   "execution_count": 5,
   "id": "a5bea699",
   "metadata": {},
   "outputs": [
    {
     "data": {
      "text/plain": [
       "LinearRegression()"
      ]
     },
     "execution_count": 5,
     "metadata": {},
     "output_type": "execute_result"
    }
   ],
   "source": [
    "from sklearn.linear_model import LinearRegression\n",
    "\n",
    "regressor = LinearRegression()\n",
    "regressor.fit(X_train, y_train)"
   ]
  },
  {
   "cell_type": "markdown",
   "id": "fca24ec6",
   "metadata": {},
   "source": [
    "## Predicting the test set"
   ]
  },
  {
   "cell_type": "code",
   "execution_count": 6,
   "id": "fdfd9fa7",
   "metadata": {},
   "outputs": [
    {
     "data": {
      "text/plain": [
       "array([[103015.2 , 103282.38],\n",
       "       [132582.28, 144259.4 ],\n",
       "       [132447.74, 146121.95],\n",
       "       [ 71976.1 ,  77798.83],\n",
       "       [178537.48, 191050.39],\n",
       "       [116161.24, 105008.31],\n",
       "       [ 67851.69,  81229.06],\n",
       "       [ 98791.73,  97483.56],\n",
       "       [113969.44, 110352.25],\n",
       "       [167921.07, 166187.94]])"
      ]
     },
     "execution_count": 6,
     "metadata": {},
     "output_type": "execute_result"
    }
   ],
   "source": [
    "y_pred = regressor.predict(X_test)\n",
    "\n",
    "# Print arrays to 2dp\n",
    "np.set_printoptions(precision=2)\n",
    "\n",
    "# Concatenate the arrays and then flip horizontally using reshape\n",
    "np.concatenate(\n",
    "    (\n",
    "        y_pred.reshape(len(y_pred), 1), \n",
    "        y_test.reshape(len(y_test), 1)\n",
    "    ),\n",
    "    1\n",
    ")"
   ]
  },
  {
   "cell_type": "markdown",
   "id": "4fca9681",
   "metadata": {},
   "source": [
    "## Challenges"
   ]
  },
  {
   "cell_type": "markdown",
   "id": "93ecc7a6",
   "metadata": {},
   "source": [
    "Question 1: How do I use my multiple linear regression model to make a single prediction, for example, the profit of a startup with R&D Spend = 160000, Administration Spend = 130000, Marketing Spend = 300000 and State = California?"
   ]
  },
  {
   "cell_type": "markdown",
   "id": "951ef670",
   "metadata": {},
   "source": [
    "### My answers"
   ]
  },
  {
   "cell_type": "markdown",
   "id": "815fd43d",
   "metadata": {},
   "source": [
    "There are two answers I can carry out for this. I can use the predict method."
   ]
  },
  {
   "cell_type": "code",
   "execution_count": 7,
   "id": "c73caa30",
   "metadata": {},
   "outputs": [
    {
     "data": {
      "text/plain": [
       "array([[     0,      1,      0, 160000, 130000, 300000]])"
      ]
     },
     "execution_count": 7,
     "metadata": {},
     "output_type": "execute_result"
    }
   ],
   "source": [
    "q1_X = np.array([0, 1, 0, 160000, 130000, 300000]).reshape(1, -1)\n",
    "q1_X"
   ]
  },
  {
   "cell_type": "code",
   "execution_count": 8,
   "id": "52fbfc33",
   "metadata": {},
   "outputs": [
    {
     "data": {
      "text/plain": [
       "array([180607.64])"
      ]
     },
     "execution_count": 8,
     "metadata": {},
     "output_type": "execute_result"
    }
   ],
   "source": [
    "q1_a_pred = regressor.predict(q1_X)\n",
    "q1_a_pred"
   ]
  },
  {
   "cell_type": "markdown",
   "id": "e5822a3b",
   "metadata": {},
   "source": [
    "Or, I can take my answer from question 2 and input the values."
   ]
  },
  {
   "cell_type": "code",
   "execution_count": 28,
   "id": "00a6683c",
   "metadata": {},
   "outputs": [
    {
     "data": {
      "text/plain": [
       "42467.52924853204"
      ]
     },
     "execution_count": 28,
     "metadata": {},
     "output_type": "execute_result"
    }
   ],
   "source": [
    "q1_b_pred = intercept \n",
    "+ (coef[0] * 0) \n",
    "+ (coef[1] * 1)\n",
    "+ (coef[2] * 0)\n",
    "+ (coef[3] * 160000)\n",
    "+ (coef[4] * 130000)\n",
    "+ (coef[5] * 300000)\n",
    "\n",
    "q1_b_pred"
   ]
  },
  {
   "cell_type": "markdown",
   "id": "cf25b2c6",
   "metadata": {},
   "source": [
    "### Tutorial answer"
   ]
  },
  {
   "cell_type": "markdown",
   "id": "cfc6d457",
   "metadata": {},
   "source": [
    "The answer provided in the tutorial was similar to how I carried out my first method, note how the categorical variable is defined in the first column, compared to my second column which indicates, it is encode alphabetically."
   ]
  },
  {
   "cell_type": "code",
   "execution_count": 30,
   "id": "9d957624",
   "metadata": {},
   "outputs": [
    {
     "name": "stdout",
     "output_type": "stream",
     "text": [
      "[181566.92]\n"
     ]
    }
   ],
   "source": [
    "print(regressor.predict([[1, 0, 0, 160000, 130000, 300000]]))"
   ]
  },
  {
   "cell_type": "markdown",
   "id": "7d973d7b",
   "metadata": {},
   "source": [
    "Question 2: How do I get the final regression equation y = b0 + b1 x1 + b2 x2 + ... with the final values of the coefficients?"
   ]
  },
  {
   "cell_type": "markdown",
   "id": "a7d20ac2",
   "metadata": {},
   "source": [
    "### My answer"
   ]
  },
  {
   "cell_type": "code",
   "execution_count": 29,
   "id": "60bd369f",
   "metadata": {},
   "outputs": [],
   "source": [
    "coef = regressor.coef_\n",
    "intercept = regressor.intercept_"
   ]
  },
  {
   "cell_type": "markdown",
   "id": "e35bf220",
   "metadata": {},
   "source": [
    "### Tutorial answer"
   ]
  },
  {
   "cell_type": "markdown",
   "id": "1136ef05",
   "metadata": {},
   "source": [
    "The calculation of the intercept and coefficients were correct but the tutorial took it one step further to define the complete equation as."
   ]
  },
  {
   "cell_type": "markdown",
   "id": "36816a73",
   "metadata": {},
   "source": [
    "Profit = 42467.53 + 86.6*x1* - 873*x2* + 786*x3* + 0.773*x4* + 0.0329*x5* + 0.0366*x6*"
   ]
  }
 ],
 "metadata": {
  "kernelspec": {
   "display_name": "Python 3 (ipykernel)",
   "language": "python",
   "name": "python3"
  },
  "language_info": {
   "codemirror_mode": {
    "name": "ipython",
    "version": 3
   },
   "file_extension": ".py",
   "mimetype": "text/x-python",
   "name": "python",
   "nbconvert_exporter": "python",
   "pygments_lexer": "ipython3",
   "version": "3.7.11"
  }
 },
 "nbformat": 4,
 "nbformat_minor": 5
}
