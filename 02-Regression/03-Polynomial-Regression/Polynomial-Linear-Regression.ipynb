{
 "cells": [
  {
   "cell_type": "markdown",
   "id": "d6c83ae1",
   "metadata": {},
   "source": [
    "## Business problem"
   ]
  },
  {
   "cell_type": "markdown",
   "id": "dfa2bace",
   "metadata": {},
   "source": [
    "You are a HR department that is seeking a new employee. You have found a good fit for the job and would like to offer the candidate a position in the company. When the question of salary expectations gets raised, the candidate requests 150k as this is what they earnt in their last job.\n",
    "\n",
    "Is that the case or not? This is the question we are going to answer using a polynomial regression model to predict the previous salary of the candidate.\n",
    "\n",
    "Lets say we gathered the data from glassdoor and we found from the candidates LinkedIn profile that they were a Region Manager. We can see from the dataset that they would lie between the levels of 6 and 7, lets say 6.5. We can use the value of 6.5 to deploy our model find a prediction for the salary of the candidate and compare this with their requested salary."
   ]
  },
  {
   "cell_type": "code",
   "execution_count": 14,
   "id": "af95daba",
   "metadata": {},
   "outputs": [],
   "source": [
    "import numpy as np\n",
    "import matplotlib.pyplot as plt\n",
    "import pandas as pd"
   ]
  },
  {
   "cell_type": "code",
   "execution_count": 15,
   "id": "0dc516f8",
   "metadata": {},
   "outputs": [
    {
     "data": {
      "text/html": [
       "<div>\n",
       "<style scoped>\n",
       "    .dataframe tbody tr th:only-of-type {\n",
       "        vertical-align: middle;\n",
       "    }\n",
       "\n",
       "    .dataframe tbody tr th {\n",
       "        vertical-align: top;\n",
       "    }\n",
       "\n",
       "    .dataframe thead th {\n",
       "        text-align: right;\n",
       "    }\n",
       "</style>\n",
       "<table border=\"1\" class=\"dataframe\">\n",
       "  <thead>\n",
       "    <tr style=\"text-align: right;\">\n",
       "      <th></th>\n",
       "      <th>Position</th>\n",
       "      <th>Level</th>\n",
       "      <th>Salary</th>\n",
       "    </tr>\n",
       "  </thead>\n",
       "  <tbody>\n",
       "    <tr>\n",
       "      <th>0</th>\n",
       "      <td>Business Analyst</td>\n",
       "      <td>1</td>\n",
       "      <td>45000</td>\n",
       "    </tr>\n",
       "    <tr>\n",
       "      <th>1</th>\n",
       "      <td>Junior Consultant</td>\n",
       "      <td>2</td>\n",
       "      <td>50000</td>\n",
       "    </tr>\n",
       "    <tr>\n",
       "      <th>2</th>\n",
       "      <td>Senior Consultant</td>\n",
       "      <td>3</td>\n",
       "      <td>60000</td>\n",
       "    </tr>\n",
       "    <tr>\n",
       "      <th>3</th>\n",
       "      <td>Manager</td>\n",
       "      <td>4</td>\n",
       "      <td>80000</td>\n",
       "    </tr>\n",
       "    <tr>\n",
       "      <th>4</th>\n",
       "      <td>Country Manager</td>\n",
       "      <td>5</td>\n",
       "      <td>110000</td>\n",
       "    </tr>\n",
       "  </tbody>\n",
       "</table>\n",
       "</div>"
      ],
      "text/plain": [
       "            Position  Level  Salary\n",
       "0   Business Analyst      1   45000\n",
       "1  Junior Consultant      2   50000\n",
       "2  Senior Consultant      3   60000\n",
       "3            Manager      4   80000\n",
       "4    Country Manager      5  110000"
      ]
     },
     "execution_count": 15,
     "metadata": {},
     "output_type": "execute_result"
    }
   ],
   "source": [
    "df = pd.read_csv('Position_Salaries.csv')\n",
    "df.head()"
   ]
  },
  {
   "cell_type": "markdown",
   "id": "6eb87882",
   "metadata": {},
   "source": [
    "We want to disregard the Position column as we already some ordinal coding in the table - the Level column."
   ]
  },
  {
   "cell_type": "code",
   "execution_count": 16,
   "id": "26b4112a",
   "metadata": {},
   "outputs": [],
   "source": [
    "X = df.iloc[:, 1:-1].values\n",
    "y = df.iloc[:, -1].values"
   ]
  },
  {
   "cell_type": "code",
   "execution_count": 17,
   "id": "825b76f3",
   "metadata": {},
   "outputs": [
    {
     "data": {
      "text/plain": [
       "array([[ 1],\n",
       "       [ 2],\n",
       "       [ 3],\n",
       "       [ 4],\n",
       "       [ 5],\n",
       "       [ 6],\n",
       "       [ 7],\n",
       "       [ 8],\n",
       "       [ 9],\n",
       "       [10]])"
      ]
     },
     "execution_count": 17,
     "metadata": {},
     "output_type": "execute_result"
    }
   ],
   "source": [
    "X"
   ]
  },
  {
   "cell_type": "code",
   "execution_count": 18,
   "id": "acbf879e",
   "metadata": {},
   "outputs": [
    {
     "data": {
      "text/plain": [
       "array([  45000,   50000,   60000,   80000,  110000,  150000,  200000,\n",
       "        300000,  500000, 1000000])"
      ]
     },
     "execution_count": 18,
     "metadata": {},
     "output_type": "execute_result"
    }
   ],
   "source": [
    "y"
   ]
  },
  {
   "cell_type": "markdown",
   "id": "e736fd87",
   "metadata": {},
   "source": [
    "Because we have so few data points in our dataset we are going to use the full data set to train our model - we will not be splitting into training and testing. In addition, we will not need to encode any of our data."
   ]
  },
  {
   "cell_type": "markdown",
   "id": "1a9cadef",
   "metadata": {},
   "source": [
    "## Training the Linear Regression model"
   ]
  },
  {
   "cell_type": "code",
   "execution_count": 19,
   "id": "d8e30fe7",
   "metadata": {},
   "outputs": [
    {
     "data": {
      "text/plain": [
       "LinearRegression()"
      ]
     },
     "execution_count": 19,
     "metadata": {},
     "output_type": "execute_result"
    }
   ],
   "source": [
    "from sklearn.linear_model import LinearRegression\n",
    "\n",
    "lin_reg = LinearRegression()\n",
    "lin_reg.fit(X, y)"
   ]
  },
  {
   "cell_type": "markdown",
   "id": "65681874",
   "metadata": {},
   "source": [
    "## Training the Polynomial Regression model"
   ]
  },
  {
   "cell_type": "code",
   "execution_count": 20,
   "id": "199eb062",
   "metadata": {},
   "outputs": [],
   "source": [
    "from sklearn.preprocessing import PolynomialFeatures"
   ]
  },
  {
   "cell_type": "markdown",
   "id": "89d58437",
   "metadata": {},
   "source": [
    "Notice how we use the fit_transform method on X so we have X at degree 2. This is because we want to fit our model, then transform it so it fits our polynomial equation. For the below example we would have our matrix, then our matrix squared.\n",
    "\n",
    "Then we have to re-fit our linear model on our new matrix, X."
   ]
  },
  {
   "cell_type": "code",
   "execution_count": 21,
   "id": "168b0cac",
   "metadata": {},
   "outputs": [
    {
     "data": {
      "text/plain": [
       "LinearRegression()"
      ]
     },
     "execution_count": 21,
     "metadata": {},
     "output_type": "execute_result"
    }
   ],
   "source": [
    "poly_reg = PolynomialFeatures(degree=3)\n",
    "X_poly = poly_reg.fit_transform(X)\n",
    "\n",
    "lin_reg_2 = LinearRegression()\n",
    "lin_reg_2.fit(X_poly, y)"
   ]
  },
  {
   "cell_type": "markdown",
   "id": "e06d7709",
   "metadata": {},
   "source": [
    "## Visualising the Linear Regression results"
   ]
  },
  {
   "cell_type": "code",
   "execution_count": 22,
   "id": "c40e9f65",
   "metadata": {},
   "outputs": [
    {
     "data": {
      "image/png": "[encoded data removed]",
      "text/plain": [
       "<Figure size 432x288 with 1 Axes>"
      ]
     },
     "metadata": {
      "needs_background": "light"
     },
     "output_type": "display_data"
    }
   ],
   "source": [
    "plt.scatter(X, y, color='green')\n",
    "plt.plot(X, lin_reg.predict(X), color='magenta')\n",
    "plt.title('Truth or Bluff (Linear Regresson)')\n",
    "plt.xlabel('Position Level')\n",
    "plt.ylabel('Salary (£m)')\n",
    "plt.show()"
   ]
  },
  {
   "cell_type": "markdown",
   "id": "d3a57122",
   "metadata": {},
   "source": [
    "## Visualising the Polynomial Regression results"
   ]
  },
  {
   "cell_type": "code",
   "execution_count": 23,
   "id": "4663bbeb",
   "metadata": {},
   "outputs": [
    {
     "data": {
      "image/png": "[encoded data removed]",
      "text/plain": [
       "<Figure size 432x288 with 1 Axes>"
      ]
     },
     "metadata": {
      "needs_background": "light"
     },
     "output_type": "display_data"
    }
   ],
   "source": [
    "plt.scatter(X, y, color='green')\n",
    "plt.plot(X, lin_reg_2.predict(X_poly), color='magenta')\n",
    "plt.title('Truth or Bluff (Polynomial Regresson)')\n",
    "plt.xlabel('Position Level')\n",
    "plt.ylabel('Salary (£m)')\n",
    "plt.show()"
   ]
  },
  {
   "cell_type": "markdown",
   "id": "6712aac1",
   "metadata": {},
   "source": [
    "We can see our polynomial regression curve fits our data far better than the linear regression curve, especially at n=3. We can always experiment with values of n to find our best fitting model."
   ]
  },
  {
   "cell_type": "markdown",
   "id": "ad91506e",
   "metadata": {},
   "source": [
    "## Visualising the Polynomial Regression results for higher resolution & smoother curve"
   ]
  },
  {
   "cell_type": "code",
   "execution_count": 11,
   "id": "f6a0c34f",
   "metadata": {},
   "outputs": [
    {
     "data": {
      "image/png": "[encoded data removed]",
      "text/plain": [
       "<Figure size 432x288 with 1 Axes>"
      ]
     },
     "metadata": {
      "needs_background": "light"
     },
     "output_type": "display_data"
    }
   ],
   "source": [
    "X_grid = np.arange(min(X), max(X), 0.1)\n",
    "X_grid = X_grid.reshape((len(X_grid), 1))\n",
    "\n",
    "X_poly_grid = poly_reg.fit_transform(X_grid)\n",
    "\n",
    "plt.scatter(X, y, color='orange')\n",
    "plt.plot(X_grid, lin_reg_2.predict(X_poly_grid), color='black')\n",
    "plt.title('Truth or Bluff (Polynomial Regresson)')\n",
    "plt.xlabel('Position Level')\n",
    "plt.ylabel('Salary (£m)')\n",
    "plt.show()"
   ]
  },
  {
   "cell_type": "markdown",
   "id": "2edbe034",
   "metadata": {},
   "source": [
    "We now have a smoother curve. Instead of taking the position level to be integers between 1 and 10, we took real numbers by increments of 0.1."
   ]
  },
  {
   "cell_type": "markdown",
   "id": "c76efc16",
   "metadata": {},
   "source": [
    "## Predicting a new result with Linear Regression"
   ]
  },
  {
   "cell_type": "markdown",
   "id": "1ca4a370",
   "metadata": {},
   "source": [
    "Ensure to always use double square brackets as we need to pass through a 2D array."
   ]
  },
  {
   "cell_type": "code",
   "execution_count": 24,
   "id": "8bfead4c",
   "metadata": {},
   "outputs": [
    {
     "data": {
      "text/plain": [
       "array([330378.78787879])"
      ]
     },
     "execution_count": 24,
     "metadata": {},
     "output_type": "execute_result"
    }
   ],
   "source": [
    "lin_reg.predict([[6.5]])"
   ]
  },
  {
   "cell_type": "markdown",
   "id": "dcbd197d",
   "metadata": {},
   "source": [
    "## Predicting a new result with Polynomial Regression"
   ]
  },
  {
   "cell_type": "markdown",
   "id": "0429a64b",
   "metadata": {},
   "source": [
    "We need to use our fit_transform method as we need our matrix to the power of n."
   ]
  },
  {
   "cell_type": "code",
   "execution_count": 25,
   "id": "0fba8893",
   "metadata": {},
   "outputs": [
    {
     "data": {
      "text/plain": [
       "array([133259.46969697])"
      ]
     },
     "execution_count": 25,
     "metadata": {},
     "output_type": "execute_result"
    }
   ],
   "source": [
    "lin_reg_2.predict(poly_reg.fit_transform([[6.5]]))"
   ]
  },
  {
   "cell_type": "markdown",
   "id": "b4883c3f",
   "metadata": {},
   "source": [
    "This does not make sense? This should be around the 150k mark, maybe more?"
   ]
  }
 ],
 "metadata": {
  "kernelspec": {
   "display_name": "Python 3 (ipykernel)",
   "language": "python",
   "name": "python3"
  },
  "language_info": {
   "codemirror_mode": {
    "name": "ipython",
    "version": 3
   },
   "file_extension": ".py",
   "mimetype": "text/x-python",
   "name": "python",
   "nbconvert_exporter": "python",
   "pygments_lexer": "ipython3",
   "version": "3.7.11"
  }
 },
 "nbformat": 4,
 "nbformat_minor": 5
}
