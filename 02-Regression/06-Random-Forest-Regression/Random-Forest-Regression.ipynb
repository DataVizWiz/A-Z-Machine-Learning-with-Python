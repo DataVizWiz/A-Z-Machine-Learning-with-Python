{
 "cells": [
  {
   "cell_type": "markdown",
   "id": "f74dfc61",
   "metadata": {},
   "source": [
    "Random forest is an example of ensemble learning. Ensemble learning combines several base models in order to produce one optimal predictive model.\n",
    "\n",
    "Step 1: pick at random K data points from the training set.<br>\n",
    "Step 2: build the Decision Tree associated to these K data points.<br>\n",
    "Step 3: choose the number N of trees you want to build and repeat steps 1 & 2.<br>\n",
    "Step 4: for a new data point, make each one of your N trees predict the value of Y for the data point and assign the new data point the average across all of the predicted Y values."
   ]
  },
  {
   "cell_type": "code",
   "execution_count": 4,
   "id": "ad816861",
   "metadata": {},
   "outputs": [],
   "source": [
    "import numpy as np\n",
    "import matplotlib.pyplot as plt\n",
    "import pandas as pd\n",
    "\n",
    "df = pd.read_csv('Position_Salaries.csv')\n",
    "\n",
    "X = df.iloc[:, 1:-1].values\n",
    "y = df.iloc[:, -1].values"
   ]
  },
  {
   "cell_type": "markdown",
   "id": "d4fd95fb",
   "metadata": {},
   "source": [
    "## Training the Random Forest Regression model"
   ]
  },
  {
   "cell_type": "code",
   "execution_count": 8,
   "id": "bd4f168f",
   "metadata": {},
   "outputs": [
    {
     "data": {
      "text/plain": [
       "RandomForestRegressor(n_estimators=10, random_state=0)"
      ]
     },
     "execution_count": 8,
     "metadata": {},
     "output_type": "execute_result"
    }
   ],
   "source": [
    "from sklearn.ensemble import RandomForestRegressor\n",
    "\n",
    "rf_reg = RandomForestRegressor(n_estimators=10, random_state=0)\n",
    "rf_reg.fit(X, y)"
   ]
  },
  {
   "cell_type": "code",
   "execution_count": 9,
   "id": "ea515d76",
   "metadata": {},
   "outputs": [
    {
     "data": {
      "text/plain": [
       "array([167000.])"
      ]
     },
     "execution_count": 9,
     "metadata": {},
     "output_type": "execute_result"
    }
   ],
   "source": [
    "y_pred = rf_reg.predict([[6.5]])\n",
    "y_pred"
   ]
  },
  {
   "cell_type": "code",
   "execution_count": 12,
   "id": "7b0191ca",
   "metadata": {},
   "outputs": [
    {
     "data": {
      "image/png": "[encoded data removed]",
      "text/plain": [
       "<Figure size 432x288 with 1 Axes>"
      ]
     },
     "metadata": {
      "needs_background": "light"
     },
     "output_type": "display_data"
    }
   ],
   "source": [
    "X_grid = np.arange(min(X), max(X), 0.1)\n",
    "X_grid = X_grid.reshape((len(X_grid), 1))\n",
    "\n",
    "X_grid_pred = rf_reg.predict(X_grid)\n",
    "\n",
    "plt.scatter(X, y, color='orange')\n",
    "plt.plot(X_grid, X_grid_pred, color='black')\n",
    "plt.title('Truth or Bluff (Random Forest Regresson)')\n",
    "plt.xlabel('Position Level')\n",
    "plt.ylabel('Salary (£m)')\n",
    "plt.show()"
   ]
  }
 ],
 "metadata": {
  "kernelspec": {
   "display_name": "Python 3 (ipykernel)",
   "language": "python",
   "name": "python3"
  },
  "language_info": {
   "codemirror_mode": {
    "name": "ipython",
    "version": 3
   },
   "file_extension": ".py",
   "mimetype": "text/x-python",
   "name": "python",
   "nbconvert_exporter": "python",
   "pygments_lexer": "ipython3",
   "version": "3.7.11"
  }
 },
 "nbformat": 4,
 "nbformat_minor": 5
}
