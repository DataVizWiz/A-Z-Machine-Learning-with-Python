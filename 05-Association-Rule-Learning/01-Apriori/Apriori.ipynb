{
 "cells": [
  {
   "cell_type": "markdown",
   "id": "ea313cf9",
   "metadata": {},
   "source": [
    "## Business problem"
   ]
  },
  {
   "cell_type": "markdown",
   "id": "dcc13a1c",
   "metadata": {},
   "source": [
    "You are a business owner of a store selling food and you want to offer some deals for your customers. In order to do this you need to identify the best association rules of your products.\n",
    "\n",
    "Each row corresponds to a transaction made by a customer. Each transaction contains all the items the customer purchased."
   ]
  },
  {
   "cell_type": "code",
   "execution_count": 29,
   "id": "fed5224e",
   "metadata": {},
   "outputs": [],
   "source": [
    "import numpy as np\n",
    "import matplotlib.pyplot as plt\n",
    "import pandas as pd"
   ]
  },
  {
   "cell_type": "markdown",
   "id": "7c61c70f",
   "metadata": {},
   "source": [
    "## Data preprocessing"
   ]
  },
  {
   "cell_type": "markdown",
   "id": "d131e0bf",
   "metadata": {},
   "source": [
    "We need to convert this to a list of lists i.e, we need a list for every transaction (row of data) and then these need to be within a list. This is done by looping over every row and appending every column together."
   ]
  },
  {
   "cell_type": "code",
   "execution_count": 28,
   "id": "6b89ded3",
   "metadata": {},
   "outputs": [],
   "source": [
    "df = pd.read_csv('Market_Basket_Optimisation.csv', header=None)\n",
    "\n",
    "trans = []\n",
    "\n",
    "for row in range(0, len(df)):\n",
    "    trans.append([str(df.values[row, col]) for col in range(0, len(df.columns))])"
   ]
  },
  {
   "cell_type": "markdown",
   "id": "7eb9ea57",
   "metadata": {},
   "source": [
    "## Training the Apriori model"
   ]
  },
  {
   "cell_type": "markdown",
   "id": "6e4c7169",
   "metadata": {},
   "source": [
    "To get our minimum support we need to do a bit of thinking. What could we define as a 'frequently purchased' product? Perhaps a product that has been purchased at least 3 times in one day?\n",
    "\n",
    "Recall from our theory lesson that the support is the total number of times M occured, divided by the total observations. So, taking our daily value of 3 and multiplying by 7 (as our data is recorded over a weekly period), our minimum support is\n",
    "\n",
    "(3 * 7) / 7501 = 0.00279...\n",
    "\n",
    "Which we can round to 0.003.\n",
    "\n",
    "For our minimum confidence, we may have to try some different values and see what rules we get. For now lets use 0.2.\n",
    "\n",
    "For minimum lift, again, this could be trial and error with experience, a good starting point for now is 3 and we can change this.\n",
    "\n",
    "Our min and max length is how many (min/max) elements we want to have in our rule. Because we are looking at who purchased product B when they purchased product A, we can set both to 2."
   ]
  },
  {
   "cell_type": "code",
   "execution_count": 37,
   "id": "dd917a79",
   "metadata": {
    "scrolled": false
   },
   "outputs": [],
   "source": [
    "from apyori import apriori\n",
    "\n",
    "rules = apriori(\n",
    "    transactions = trans, \n",
    "    min_support=0.003, \n",
    "    min_confidence=0.2, \n",
    "    min_lift=3, \n",
    "    min_length=2, \n",
    "    max_length=2\n",
    ")"
   ]
  },
  {
   "cell_type": "markdown",
   "id": "521ffec8",
   "metadata": {},
   "source": [
    "To conclude, <br>\n",
    "we have defined that our products in the rules appear at least 0.3% of the time, <br>\n",
    "for product A in the left side of the rule, we will have product B on the right hand side 20% of the time. <br>"
   ]
  },
  {
   "cell_type": "markdown",
   "id": "ec5bad49",
   "metadata": {},
   "source": [
    "## Displaying the first results"
   ]
  },
  {
   "cell_type": "markdown",
   "id": "bfb0c1d4",
   "metadata": {},
   "source": [
    "So what does this tell us? Lets look at the first relationship. The base product (A) is light cream, then the product that was added (B) was chicken - if people buy light cream, there is a 29% (confidence) they will buy chicken.\n",
    "\n",
    "This rule appears in 0.45% of transactions (support)."
   ]
  },
  {
   "cell_type": "code",
   "execution_count": 38,
   "id": "b7f4cef2",
   "metadata": {},
   "outputs": [
    {
     "data": {
      "text/plain": [
       "[RelationRecord(items=frozenset({'chicken', 'light cream'}), support=0.004532728969470737, ordered_statistics=[OrderedStatistic(items_base=frozenset({'light cream'}), items_add=frozenset({'chicken'}), confidence=0.29059829059829057, lift=4.84395061728395)]),\n",
       " RelationRecord(items=frozenset({'escalope', 'mushroom cream sauce'}), support=0.005732568990801226, ordered_statistics=[OrderedStatistic(items_base=frozenset({'mushroom cream sauce'}), items_add=frozenset({'escalope'}), confidence=0.3006993006993007, lift=3.790832696715049)]),\n",
       " RelationRecord(items=frozenset({'pasta', 'escalope'}), support=0.005865884548726837, ordered_statistics=[OrderedStatistic(items_base=frozenset({'pasta'}), items_add=frozenset({'escalope'}), confidence=0.3728813559322034, lift=4.700811850163794)]),\n",
       " RelationRecord(items=frozenset({'fromage blanc', 'honey'}), support=0.003332888948140248, ordered_statistics=[OrderedStatistic(items_base=frozenset({'fromage blanc'}), items_add=frozenset({'honey'}), confidence=0.2450980392156863, lift=5.164270764485569)]),\n",
       " RelationRecord(items=frozenset({'ground beef', 'herb & pepper'}), support=0.015997866951073192, ordered_statistics=[OrderedStatistic(items_base=frozenset({'herb & pepper'}), items_add=frozenset({'ground beef'}), confidence=0.3234501347708895, lift=3.2919938411349285)]),\n",
       " RelationRecord(items=frozenset({'tomato sauce', 'ground beef'}), support=0.005332622317024397, ordered_statistics=[OrderedStatistic(items_base=frozenset({'tomato sauce'}), items_add=frozenset({'ground beef'}), confidence=0.3773584905660377, lift=3.840659481324083)]),\n",
       " RelationRecord(items=frozenset({'light cream', 'olive oil'}), support=0.003199573390214638, ordered_statistics=[OrderedStatistic(items_base=frozenset({'light cream'}), items_add=frozenset({'olive oil'}), confidence=0.20512820512820515, lift=3.1147098515519573)]),\n",
       " RelationRecord(items=frozenset({'whole wheat pasta', 'olive oil'}), support=0.007998933475536596, ordered_statistics=[OrderedStatistic(items_base=frozenset({'whole wheat pasta'}), items_add=frozenset({'olive oil'}), confidence=0.2714932126696833, lift=4.122410097642296)]),\n",
       " RelationRecord(items=frozenset({'pasta', 'shrimp'}), support=0.005065991201173177, ordered_statistics=[OrderedStatistic(items_base=frozenset({'pasta'}), items_add=frozenset({'shrimp'}), confidence=0.3220338983050847, lift=4.506672147735896)])]"
      ]
     },
     "execution_count": 38,
     "metadata": {},
     "output_type": "execute_result"
    }
   ],
   "source": [
    "results = list(rules)\n",
    "results"
   ]
  },
  {
   "cell_type": "markdown",
   "id": "e6826e76",
   "metadata": {},
   "source": [
    "## Putting the results into a df"
   ]
  },
  {
   "cell_type": "code",
   "execution_count": 58,
   "id": "2a41479e",
   "metadata": {},
   "outputs": [
    {
     "data": {
      "text/html": [
       "<div>\n",
       "<style scoped>\n",
       "    .dataframe tbody tr th:only-of-type {\n",
       "        vertical-align: middle;\n",
       "    }\n",
       "\n",
       "    .dataframe tbody tr th {\n",
       "        vertical-align: top;\n",
       "    }\n",
       "\n",
       "    .dataframe thead th {\n",
       "        text-align: right;\n",
       "    }\n",
       "</style>\n",
       "<table border=\"1\" class=\"dataframe\">\n",
       "  <thead>\n",
       "    <tr style=\"text-align: right;\">\n",
       "      <th></th>\n",
       "      <th>Product A</th>\n",
       "      <th>Product B</th>\n",
       "      <th>Support</th>\n",
       "      <th>Confidence</th>\n",
       "      <th>Lift</th>\n",
       "    </tr>\n",
       "  </thead>\n",
       "  <tbody>\n",
       "    <tr>\n",
       "      <th>3</th>\n",
       "      <td>fromage blanc</td>\n",
       "      <td>honey</td>\n",
       "      <td>0.003333</td>\n",
       "      <td>0.245098</td>\n",
       "      <td>5.164271</td>\n",
       "    </tr>\n",
       "    <tr>\n",
       "      <th>0</th>\n",
       "      <td>light cream</td>\n",
       "      <td>chicken</td>\n",
       "      <td>0.004533</td>\n",
       "      <td>0.290598</td>\n",
       "      <td>4.843951</td>\n",
       "    </tr>\n",
       "    <tr>\n",
       "      <th>2</th>\n",
       "      <td>pasta</td>\n",
       "      <td>escalope</td>\n",
       "      <td>0.005866</td>\n",
       "      <td>0.372881</td>\n",
       "      <td>4.700812</td>\n",
       "    </tr>\n",
       "    <tr>\n",
       "      <th>8</th>\n",
       "      <td>pasta</td>\n",
       "      <td>shrimp</td>\n",
       "      <td>0.005066</td>\n",
       "      <td>0.322034</td>\n",
       "      <td>4.506672</td>\n",
       "    </tr>\n",
       "    <tr>\n",
       "      <th>7</th>\n",
       "      <td>whole wheat pasta</td>\n",
       "      <td>olive oil</td>\n",
       "      <td>0.007999</td>\n",
       "      <td>0.271493</td>\n",
       "      <td>4.122410</td>\n",
       "    </tr>\n",
       "    <tr>\n",
       "      <th>5</th>\n",
       "      <td>tomato sauce</td>\n",
       "      <td>ground beef</td>\n",
       "      <td>0.005333</td>\n",
       "      <td>0.377358</td>\n",
       "      <td>3.840659</td>\n",
       "    </tr>\n",
       "    <tr>\n",
       "      <th>1</th>\n",
       "      <td>mushroom cream sauce</td>\n",
       "      <td>escalope</td>\n",
       "      <td>0.005733</td>\n",
       "      <td>0.300699</td>\n",
       "      <td>3.790833</td>\n",
       "    </tr>\n",
       "    <tr>\n",
       "      <th>4</th>\n",
       "      <td>herb &amp; pepper</td>\n",
       "      <td>ground beef</td>\n",
       "      <td>0.015998</td>\n",
       "      <td>0.323450</td>\n",
       "      <td>3.291994</td>\n",
       "    </tr>\n",
       "    <tr>\n",
       "      <th>6</th>\n",
       "      <td>light cream</td>\n",
       "      <td>olive oil</td>\n",
       "      <td>0.003200</td>\n",
       "      <td>0.205128</td>\n",
       "      <td>3.114710</td>\n",
       "    </tr>\n",
       "  </tbody>\n",
       "</table>\n",
       "</div>"
      ],
      "text/plain": [
       "              Product A    Product B   Support  Confidence      Lift\n",
       "3         fromage blanc        honey  0.003333    0.245098  5.164271\n",
       "0           light cream      chicken  0.004533    0.290598  4.843951\n",
       "2                 pasta     escalope  0.005866    0.372881  4.700812\n",
       "8                 pasta       shrimp  0.005066    0.322034  4.506672\n",
       "7     whole wheat pasta    olive oil  0.007999    0.271493  4.122410\n",
       "5          tomato sauce  ground beef  0.005333    0.377358  3.840659\n",
       "1  mushroom cream sauce     escalope  0.005733    0.300699  3.790833\n",
       "4         herb & pepper  ground beef  0.015998    0.323450  3.291994\n",
       "6           light cream    olive oil  0.003200    0.205128  3.114710"
      ]
     },
     "execution_count": 58,
     "metadata": {},
     "output_type": "execute_result"
    }
   ],
   "source": [
    "def inspect(results):\n",
    "    lhs = [tuple(result[2][0][0])[0] for result in results]\n",
    "    rhs = [tuple(result[2][0][1])[0] for result in results]\n",
    "    support = [result[1] for result in results]\n",
    "    confidence = [result[2][0][2] for result in results]\n",
    "    lift = [result[2][0][3] for result in results]\n",
    "    \n",
    "    return list(zip(lhs, rhs, support, confidence, lift))\n",
    "\n",
    "df_results = pd.DataFrame(inspect(results), columns=['Product A', 'Product B', 'Support', 'Confidence', 'Lift'])\n",
    "df_results.sort_values(by=['Lift'], ascending=False)"
   ]
  }
 ],
 "metadata": {
  "kernelspec": {
   "display_name": "Python 3 (ipykernel)",
   "language": "python",
   "name": "python3"
  },
  "language_info": {
   "codemirror_mode": {
    "name": "ipython",
    "version": 3
   },
   "file_extension": ".py",
   "mimetype": "text/x-python",
   "name": "python",
   "nbconvert_exporter": "python",
   "pygments_lexer": "ipython3",
   "version": "3.7.11"
  }
 },
 "nbformat": 4,
 "nbformat_minor": 5
}
